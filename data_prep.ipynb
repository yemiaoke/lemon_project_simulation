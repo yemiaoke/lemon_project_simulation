{
 "cells": [
  {
   "cell_type": "code",
   "execution_count": 1,
   "id": "7544a881",
   "metadata": {},
   "outputs": [],
   "source": [
    "import pandas as pd\n",
    "import numpy as np\n",
    "import seaborn as sns\n",
    "import matplotlib.pyplot as plt\n",
    "\n",
    "pd.set_option('display.max_columns', 500)\n",
    "pd.set_option('display.width', 1000)\n",
    "pd.set_option('display.max_rows', 500)"
   ]
  },
  {
   "cell_type": "code",
   "execution_count": 2,
   "id": "ed38121f",
   "metadata": {},
   "outputs": [],
   "source": [
    "# read data\n",
    "birth = pd.read_csv('birth.csv')\n",
    "edu = pd.read_csv('edu.csv')\n",
    "spouse_edu = pd.read_csv('spouse_edu.csv')\n",
    "marstat = pd.read_csv('marstat.csv')"
   ]
  },
  {
   "cell_type": "code",
   "execution_count": 3,
   "id": "446892cc",
   "metadata": {},
   "outputs": [],
   "source": [
    "birth.columns = ['id', 'birth_year', 'gender']\n",
    "edu = edu.rename(columns={'R0000100':'id', 'T9900000': 'grade'})\n",
    "birth = pd.merge(birth, edu[['id', 'grade']], on='id', how='left')"
   ]
  },
  {
   "cell_type": "code",
   "execution_count": 4,
   "id": "50117fb1",
   "metadata": {},
   "outputs": [],
   "source": [
    "# Create a range of age values from 21 to 60\n",
    "age_values = np.arange(20, 61)\n",
    "\n",
    "# Repeat the rows for each age value\n",
    "num_repeats = len(age_values)\n",
    "sample = birth.loc[birth.index.repeat(num_repeats)].reset_index(drop=True)\n",
    "\n",
    "# Assign the age values to the repeated DataFrame\n",
    "sample['age'] = np.tile(age_values, len(birth))"
   ]
  },
  {
   "cell_type": "code",
   "execution_count": 5,
   "id": "120dfebd",
   "metadata": {},
   "outputs": [],
   "source": [
    "marstat.columns = ['id'] + list(range(1979,1995)) + list(range(1996,2019,2))\n",
    "# deal with negative values\n",
    "marstat = marstat.replace(-4, 0)\n",
    "marstat[marstat<0] = np.nan"
   ]
  },
  {
   "cell_type": "code",
   "execution_count": 6,
   "id": "d69fe5dc",
   "metadata": {},
   "outputs": [],
   "source": [
    "# convert categorical information to dummies\n",
    "# if marital status is 0 (never married), 3 (divorced), or 6 (widowed), set the dummy to 0\n",
    "columns_to_replace = marstat.columns[1:]  # Exclude the first column\n",
    "marstat[columns_to_replace] = np.where((marstat[columns_to_replace] == 0) |\n",
    "                                       (marstat[columns_to_replace] == 3) |\n",
    "                                       (marstat[columns_to_replace] == 6), 0,\n",
    "                                       marstat[columns_to_replace])\n",
    "marstat[columns_to_replace] = np.where((marstat[columns_to_replace] == 1) |\n",
    "                                       (marstat[columns_to_replace] == 2) |\n",
    "                                       (marstat[columns_to_replace] == 5), 1,\n",
    "                                       marstat[columns_to_replace])"
   ]
  },
  {
   "cell_type": "code",
   "execution_count": 7,
   "id": "8a4ccce8",
   "metadata": {},
   "outputs": [],
   "source": [
    "new_cols = list(range(1995,2018,2))\n",
    "for col in new_cols:\n",
    "    marstat[col] = np.nan  # Assign nan (or any other initial value) to create an empty column"
   ]
  },
  {
   "cell_type": "code",
   "execution_count": 8,
   "id": "3d7506cb",
   "metadata": {},
   "outputs": [],
   "source": [
    "new_column_order = ['id'] + list(range(1979,2019))\n",
    "marstat = marstat[new_column_order]"
   ]
  },
  {
   "cell_type": "code",
   "execution_count": 9,
   "id": "896f084e",
   "metadata": {},
   "outputs": [],
   "source": [
    "col_interpolate = marstat.columns[1:]\n",
    "marstat[col_interpolate] = marstat[col_interpolate].interpolate(method='ffill', axis=1)\n",
    "marstat[col_interpolate] = marstat[col_interpolate].interpolate(method='bfill', axis=1)"
   ]
  },
  {
   "cell_type": "code",
   "execution_count": 10,
   "id": "429b66a0",
   "metadata": {},
   "outputs": [],
   "source": [
    "# convert a wide dataframe to a long one\n",
    "marstat_melted = pd.melt(marstat, id_vars=['id'], var_name='year', value_name='marstat')"
   ]
  },
  {
   "cell_type": "code",
   "execution_count": 11,
   "id": "3a395881",
   "metadata": {},
   "outputs": [],
   "source": [
    "spouse_edu.columns = ['id'] + list(range(1979,1995)) + list(range(1996,2019,2))\n",
    "for col in new_cols:\n",
    "    spouse_edu[col] = np.nan  # Assign nan (or any other initial value) to create an empty column"
   ]
  },
  {
   "cell_type": "code",
   "execution_count": 12,
   "id": "1c665a32",
   "metadata": {},
   "outputs": [],
   "source": [
    "spouse_edu = spouse_edu[new_column_order]"
   ]
  },
  {
   "cell_type": "code",
   "execution_count": 13,
   "id": "ab6ac844",
   "metadata": {},
   "outputs": [],
   "source": [
    "# deal with negative values\n",
    "spouse_edu[spouse_edu<0] = np.nan"
   ]
  },
  {
   "cell_type": "code",
   "execution_count": 14,
   "id": "c6637ad1",
   "metadata": {},
   "outputs": [],
   "source": [
    "col_interpolate = spouse_edu.columns[1:]\n",
    "spouse_edu[col_interpolate] = spouse_edu[col_interpolate].interpolate(method='ffill', axis=1)\n",
    "spouse_edu[col_interpolate] = spouse_edu[col_interpolate].interpolate(method='bfill', axis=1)"
   ]
  },
  {
   "cell_type": "code",
   "execution_count": 15,
   "id": "6b011687",
   "metadata": {},
   "outputs": [],
   "source": [
    "spouse_edu_melted = pd.melt(spouse_edu, id_vars=['id'], var_name='year', value_name='spouse_grade')"
   ]
  },
  {
   "cell_type": "code",
   "execution_count": 16,
   "id": "1f331a0b",
   "metadata": {},
   "outputs": [],
   "source": [
    "# add birth year to calculate age\n",
    "spouse_edu_melted = pd.merge(spouse_edu_melted, birth[['id', 'birth_year']], on='id', how='left')\n",
    "spouse_edu_melted['year'] = spouse_edu_melted['year'].astype(int)\n",
    "spouse_edu_melted['age'] = spouse_edu_melted['year'] - 1900 - spouse_edu_melted['birth_year']"
   ]
  },
  {
   "cell_type": "code",
   "execution_count": 17,
   "id": "66326184",
   "metadata": {},
   "outputs": [],
   "source": [
    "# add spouse grade to the sample\n",
    "sample = pd.merge(sample, spouse_edu_melted[['id', 'age', 'spouse_grade']],\n",
    "                  on=['id', 'age'], how='left')"
   ]
  },
  {
   "cell_type": "code",
   "execution_count": 18,
   "id": "b718905d",
   "metadata": {},
   "outputs": [],
   "source": [
    "# add birth year to calculate age\n",
    "marstat_melted = pd.merge(marstat_melted, birth[['id', 'birth_year']], on='id', how='left')\n",
    "marstat_melted['year'] = marstat_melted['year'].astype(int)\n",
    "marstat_melted['age'] = marstat_melted['year'] - 1900 - spouse_edu_melted['birth_year']"
   ]
  },
  {
   "cell_type": "code",
   "execution_count": 19,
   "id": "93b44180",
   "metadata": {},
   "outputs": [],
   "source": [
    "# add marital status to the sample\n",
    "sample = pd.merge(sample, marstat_melted[['id', 'age', 'marstat']],\n",
    "                  on=['id', 'age'], how='left')"
   ]
  },
  {
   "cell_type": "code",
   "execution_count": 20,
   "id": "98ba30d7",
   "metadata": {},
   "outputs": [],
   "source": [
    "sample['marstat'] = sample.groupby('id')['marstat'].transform(lambda x: x.bfill())\n",
    "sample['spouse_grade'] = sample.groupby('id')['spouse_grade'].transform(lambda x: x.bfill())"
   ]
  },
  {
   "cell_type": "code",
   "execution_count": 21,
   "id": "8c499ebb",
   "metadata": {},
   "outputs": [],
   "source": [
    "sample['spouse_grade'] = np.where(sample['marstat']==0, np.nan, sample['spouse_grade'])"
   ]
  },
  {
   "cell_type": "code",
   "execution_count": 22,
   "id": "a321b5fd",
   "metadata": {},
   "outputs": [],
   "source": [
    "df = sample[(sample['marstat'] == 1) & (sample['spouse_grade'].isna())]"
   ]
  },
  {
   "cell_type": "code",
   "execution_count": 23,
   "id": "a75de542",
   "metadata": {},
   "outputs": [],
   "source": [
    "# Merge df1 and df2 with indicator=True\n",
    "merged = sample.merge(df['id'], on='id', how='left', indicator=True)\n",
    "\n",
    "# Filter rows where '_merge' is 'left_only' (meaning they exist in df1 but not in df2)\n",
    "sample = merged[merged['_merge'] == 'left_only'].drop(columns='_merge')"
   ]
  },
  {
   "cell_type": "code",
   "execution_count": 24,
   "id": "602c0593",
   "metadata": {},
   "outputs": [],
   "source": [
    "df = sample[(sample['age'] == 20) & (sample['marstat'] == 1)]"
   ]
  },
  {
   "cell_type": "code",
   "execution_count": 25,
   "id": "6c5c9f3a",
   "metadata": {},
   "outputs": [],
   "source": [
    "# Merge df1 and df2 with indicator=True\n",
    "merged = sample.merge(df['id'], on='id', how='left', indicator=True)\n",
    "\n",
    "# Filter rows where '_merge' is 'left_only' (meaning they exist in df1 but not in df2)\n",
    "sample = merged[merged['_merge'] == 'left_only'].drop(columns='_merge')"
   ]
  },
  {
   "cell_type": "code",
   "execution_count": 26,
   "id": "8b9aa4be",
   "metadata": {},
   "outputs": [],
   "source": [
    "sample['mardur'] = 0"
   ]
  },
  {
   "cell_type": "code",
   "execution_count": 27,
   "id": "c10f998b",
   "metadata": {},
   "outputs": [],
   "source": [
    "sample = sample[sample['grade'] >= 0]"
   ]
  },
  {
   "cell_type": "code",
   "execution_count": 28,
   "id": "c776b81b",
   "metadata": {},
   "outputs": [
    {
     "data": {
      "text/html": [
       "<div>\n",
       "<style scoped>\n",
       "    .dataframe tbody tr th:only-of-type {\n",
       "        vertical-align: middle;\n",
       "    }\n",
       "\n",
       "    .dataframe tbody tr th {\n",
       "        vertical-align: top;\n",
       "    }\n",
       "\n",
       "    .dataframe thead th {\n",
       "        text-align: right;\n",
       "    }\n",
       "</style>\n",
       "<table border=\"1\" class=\"dataframe\">\n",
       "  <thead>\n",
       "    <tr style=\"text-align: right;\">\n",
       "      <th></th>\n",
       "      <th>id</th>\n",
       "      <th>birth_year</th>\n",
       "      <th>gender</th>\n",
       "      <th>grade</th>\n",
       "      <th>age</th>\n",
       "      <th>spouse_grade</th>\n",
       "      <th>marstat</th>\n",
       "      <th>mardur</th>\n",
       "    </tr>\n",
       "  </thead>\n",
       "  <tbody>\n",
       "    <tr>\n",
       "      <th>count</th>\n",
       "      <td>416109.000000</td>\n",
       "      <td>416109.000000</td>\n",
       "      <td>416109.000000</td>\n",
       "      <td>416109.000000</td>\n",
       "      <td>416109.000000</td>\n",
       "      <td>195225.000000</td>\n",
       "      <td>389803.00000</td>\n",
       "      <td>416109.0</td>\n",
       "    </tr>\n",
       "    <tr>\n",
       "      <th>mean</th>\n",
       "      <td>6241.328702</td>\n",
       "      <td>60.481525</td>\n",
       "      <td>1.452458</td>\n",
       "      <td>13.368115</td>\n",
       "      <td>40.000000</td>\n",
       "      <td>13.453267</td>\n",
       "      <td>0.50083</td>\n",
       "      <td>0.0</td>\n",
       "    </tr>\n",
       "    <tr>\n",
       "      <th>std</th>\n",
       "      <td>3643.501369</td>\n",
       "      <td>2.213100</td>\n",
       "      <td>0.497735</td>\n",
       "      <td>2.574056</td>\n",
       "      <td>11.832174</td>\n",
       "      <td>3.316483</td>\n",
       "      <td>0.50000</td>\n",
       "      <td>0.0</td>\n",
       "    </tr>\n",
       "    <tr>\n",
       "      <th>min</th>\n",
       "      <td>1.000000</td>\n",
       "      <td>57.000000</td>\n",
       "      <td>1.000000</td>\n",
       "      <td>0.000000</td>\n",
       "      <td>20.000000</td>\n",
       "      <td>0.000000</td>\n",
       "      <td>0.00000</td>\n",
       "      <td>0.0</td>\n",
       "    </tr>\n",
       "    <tr>\n",
       "      <th>25%</th>\n",
       "      <td>3128.000000</td>\n",
       "      <td>59.000000</td>\n",
       "      <td>1.000000</td>\n",
       "      <td>12.000000</td>\n",
       "      <td>30.000000</td>\n",
       "      <td>12.000000</td>\n",
       "      <td>0.00000</td>\n",
       "      <td>0.0</td>\n",
       "    </tr>\n",
       "    <tr>\n",
       "      <th>50%</th>\n",
       "      <td>6237.000000</td>\n",
       "      <td>60.000000</td>\n",
       "      <td>1.000000</td>\n",
       "      <td>12.000000</td>\n",
       "      <td>40.000000</td>\n",
       "      <td>12.000000</td>\n",
       "      <td>1.00000</td>\n",
       "      <td>0.0</td>\n",
       "    </tr>\n",
       "    <tr>\n",
       "      <th>75%</th>\n",
       "      <td>9340.000000</td>\n",
       "      <td>62.000000</td>\n",
       "      <td>2.000000</td>\n",
       "      <td>15.000000</td>\n",
       "      <td>50.000000</td>\n",
       "      <td>16.000000</td>\n",
       "      <td>1.00000</td>\n",
       "      <td>0.0</td>\n",
       "    </tr>\n",
       "    <tr>\n",
       "      <th>max</th>\n",
       "      <td>12685.000000</td>\n",
       "      <td>64.000000</td>\n",
       "      <td>2.000000</td>\n",
       "      <td>20.000000</td>\n",
       "      <td>60.000000</td>\n",
       "      <td>99.000000</td>\n",
       "      <td>1.00000</td>\n",
       "      <td>0.0</td>\n",
       "    </tr>\n",
       "  </tbody>\n",
       "</table>\n",
       "</div>"
      ],
      "text/plain": [
       "                  id     birth_year         gender          grade            age   spouse_grade       marstat    mardur\n",
       "count  416109.000000  416109.000000  416109.000000  416109.000000  416109.000000  195225.000000  389803.00000  416109.0\n",
       "mean     6241.328702      60.481525       1.452458      13.368115      40.000000      13.453267       0.50083       0.0\n",
       "std      3643.501369       2.213100       0.497735       2.574056      11.832174       3.316483       0.50000       0.0\n",
       "min         1.000000      57.000000       1.000000       0.000000      20.000000       0.000000       0.00000       0.0\n",
       "25%      3128.000000      59.000000       1.000000      12.000000      30.000000      12.000000       0.00000       0.0\n",
       "50%      6237.000000      60.000000       1.000000      12.000000      40.000000      12.000000       1.00000       0.0\n",
       "75%      9340.000000      62.000000       2.000000      15.000000      50.000000      16.000000       1.00000       0.0\n",
       "max     12685.000000      64.000000       2.000000      20.000000      60.000000      99.000000       1.00000       0.0"
      ]
     },
     "execution_count": 28,
     "metadata": {},
     "output_type": "execute_result"
    }
   ],
   "source": [
    "sample.describe()"
   ]
  },
  {
   "cell_type": "code",
   "execution_count": 29,
   "id": "9c77f230",
   "metadata": {},
   "outputs": [],
   "source": [
    "# Create a new column 'edu' based on 'grade'\n",
    "def assign_edu(grade):\n",
    "    if grade < 12:\n",
    "        return 0\n",
    "    elif grade == 12:\n",
    "        return 1\n",
    "    elif grade < 16:\n",
    "        return 2\n",
    "    elif grade == 16:\n",
    "        return 3\n",
    "    else:\n",
    "        return 4\n",
    "\n",
    "sample['edu'] = sample['grade'].apply(assign_edu)"
   ]
  },
  {
   "cell_type": "code",
   "execution_count": 30,
   "id": "5b934259",
   "metadata": {},
   "outputs": [],
   "source": [
    "female = sample[sample['gender'] == 2]\n",
    "male = sample[sample['gender'] == 1]"
   ]
  },
  {
   "cell_type": "code",
   "execution_count": null,
   "id": "ebd1cb19",
   "metadata": {},
   "outputs": [],
   "source": []
  },
  {
   "cell_type": "code",
   "execution_count": 31,
   "id": "7c0f0bea",
   "metadata": {},
   "outputs": [],
   "source": [
    "# Group by 'age' and count the occurrences of 'marstat' values\n",
    "equilibrium_f = female.groupby(['age', 'edu'])['marstat'].value_counts().unstack(fill_value=0)\n",
    "\n",
    "# Rename the columns for clarity\n",
    "equilibrium_f.columns = ['single_f', 'married_f']\n",
    "equilibrium_f = equilibrium_f.reset_index()"
   ]
  },
  {
   "cell_type": "code",
   "execution_count": 32,
   "id": "63ba7991",
   "metadata": {},
   "outputs": [],
   "source": [
    "# Group by 'age' and count the occurrences of 'marstat' values\n",
    "equilibrium_m = male.groupby(['age', 'edu'])['marstat'].value_counts().unstack(fill_value=0)\n",
    "\n",
    "# Rename the columns for clarity\n",
    "equilibrium_m.columns = ['single_m', 'married_m']\n",
    "equilibrium_m = equilibrium_m.reset_index()"
   ]
  },
  {
   "cell_type": "code",
   "execution_count": 33,
   "id": "cd1f3220",
   "metadata": {},
   "outputs": [],
   "source": [
    "equilibrium = pd.merge(equilibrium_f, equilibrium_m, on=['age', 'edu'], how='left')"
   ]
  },
  {
   "cell_type": "code",
   "execution_count": 38,
   "id": "7817a9ff",
   "metadata": {},
   "outputs": [
    {
     "data": {
      "text/plain": [
       "count    416109.000000\n",
       "mean         60.481525\n",
       "std           2.213100\n",
       "min          57.000000\n",
       "25%          59.000000\n",
       "50%          60.000000\n",
       "75%          62.000000\n",
       "max          64.000000\n",
       "Name: birth_year, dtype: float64"
      ]
     },
     "execution_count": 38,
     "metadata": {},
     "output_type": "execute_result"
    }
   ],
   "source": [
    "sample['birth_year'].describe()"
   ]
  },
  {
   "cell_type": "code",
   "execution_count": 36,
   "id": "2a698ecc",
   "metadata": {},
   "outputs": [],
   "source": [
    "sample.to_csv('sample79.csv',index=False)\n",
    "equilibrium.to_csv('equilibrium.csv',index=False)"
   ]
  },
  {
   "cell_type": "code",
   "execution_count": null,
   "id": "b0065d60",
   "metadata": {},
   "outputs": [],
   "source": []
  }
 ],
 "metadata": {
  "kernelspec": {
   "display_name": "Python 3 (ipykernel)",
   "language": "python",
   "name": "python3"
  },
  "language_info": {
   "codemirror_mode": {
    "name": "ipython",
    "version": 3
   },
   "file_extension": ".py",
   "mimetype": "text/x-python",
   "name": "python",
   "nbconvert_exporter": "python",
   "pygments_lexer": "ipython3",
   "version": "3.10.9"
  }
 },
 "nbformat": 4,
 "nbformat_minor": 5
}
