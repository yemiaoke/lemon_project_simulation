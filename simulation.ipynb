{
 "cells": [
  {
   "cell_type": "code",
   "execution_count": 383,
   "id": "7c70f3c0",
   "metadata": {},
   "outputs": [],
   "source": [
    "import pandas as pd\n",
    "import numpy as np\n",
    "import seaborn as sns\n",
    "import matplotlib.pyplot as plt\n",
    "import random\n",
    "\n",
    "from scipy.integrate import simps\n",
    "from scipy.stats import norm\n",
    "\n",
    "pd.set_option('display.max_columns', 500)\n",
    "pd.set_option('display.width', 1000)\n",
    "pd.set_option('display.max_rows', 500)"
   ]
  },
  {
   "cell_type": "code",
   "execution_count": 3,
   "id": "7cb60d68",
   "metadata": {},
   "outputs": [],
   "source": [
    "# read data\n",
    "sample = pd.read_csv('sample79.csv')\n",
    "equilibrium = pd.read_csv('equilibrium.csv')"
   ]
  },
  {
   "cell_type": "code",
   "execution_count": 4,
   "id": "783c1636",
   "metadata": {},
   "outputs": [
    {
     "name": "stderr",
     "output_type": "stream",
     "text": [
      "C:\\Users\\yemia\\AppData\\Local\\Temp\\ipykernel_13620\\1996282732.py:2: SettingWithCopyWarning: \n",
      "A value is trying to be set on a copy of a slice from a DataFrame.\n",
      "Try using .loc[row_indexer,col_indexer] = value instead\n",
      "\n",
      "See the caveats in the documentation: https://pandas.pydata.org/pandas-docs/stable/user_guide/indexing.html#returning-a-view-versus-a-copy\n",
      "  sample20['male'] = np.where(sample20['gender'] == 1, 1, 0)\n"
     ]
    }
   ],
   "source": [
    "sample20 = sample[sample['age']==20]\n",
    "sample20['male'] = np.where(sample20['gender'] == 1, 1, 0)"
   ]
  },
  {
   "cell_type": "code",
   "execution_count": 386,
   "id": "89c17d74",
   "metadata": {},
   "outputs": [],
   "source": [
    "# initialize parameters\n",
    "alpha = np.array([1, 1, .2, .1]) # parameters for utility\n",
    "alpha_terminal = np.array([0.1, 0.1, 0.02, .01]) # parameters for terminal value \n",
    "delta = 0.5 # parameter for arrival rate\n",
    "theta = 0.8 # parameter for calculating meeting probability\n",
    "sigma_nu = 0.6 \n",
    "sigma_tao = 0.2\n",
    "sigma_xi = 0.3\n",
    "rho = 0.1\n",
    "div_cost = 1 # divorce cost\n",
    "beta = 0.9 # discount rate\n",
    "\n",
    "type0_prob = 0.2 # proportions of lemons in the sample\n",
    "type_val = 0.1 # unobserved heterogeneity of non-lemons. for lemons, this value is 0.\n",
    "\n",
    "sigma_eta = np.sqrt(sigma_tao*sigma_tao+sigma_xi*sigma_xi/(1-rho*rho))\n",
    "\n",
    "np.random.seed(12) # random seed "
   ]
  },
  {
   "cell_type": "code",
   "execution_count": 391,
   "id": "35d5256e",
   "metadata": {},
   "outputs": [],
   "source": [
    "# Generate random numbers from normal distributions\n",
    "n_agents = len(sample20)\n",
    "n_draws = 100\n",
    "n_periods = 40\n",
    "\n",
    "error_nu = np.random.normal(0, sigma_nu, size = (n_agents, n_draws))\n",
    "error_tao = np.random.normal(0, sigma_nu, size = (n_agents, n_draws, n_periods, 10))\n",
    "xi_star = np.random.normal(0, sigma_xi, size=(n_agents, n_draws, n_periods, 10))\n",
    "\n",
    "# xi in the first period of a marriage\n",
    "sigma_xi0 = sigma_xi*np.sqrt(1-rho*rho)\n",
    "xi0 = np.random.normal(0, sigma_xi0, size=(n_agents, n_draws, n_periods, 10))"
   ]
  },
  {
   "cell_type": "code",
   "execution_count": 8,
   "id": "d68de621",
   "metadata": {},
   "outputs": [],
   "source": [
    "# initialize df to store simulation results\n",
    "sim_vals = sample20[['id', 'male', 'edu']].copy()\n",
    "# val0_now and val1_now store the current part of the values of being single and married\n",
    "# val0_future and val1_future store the future part of the values of being single and married\n",
    "sim_vals[['marstat', 'spouse_edu', 'mardur', 'maroffer', 'v0_now', 'v1_now', 'w_now'\n",
    "          'v0_future', 'v1_future', 'w_future']] = np.nan\n",
    "sim_equil = equilibrium[['age', 'edu']].copy()\n",
    "sim_equil[['single_f', 'married_f', 'single_m', 'married_m']] = np.nan\n",
    "\n",
    "# initial guess of equilibrium proportion at age 60\n",
    "proportion = [0.10, 0.30, 0.15, 0.35, 0.10] # education level from 0 to 4\n",
    "sim_vals['spouse_edu'] = np.random.choice([0, 1, 2, 3, 4], size=len(sim_vals), p=proportion)\n",
    "\n",
    "# initial guess of marriage duration at age 60\n",
    "sim_vals['mardur'] = sample[sample['age'] == 60].mardur\n",
    "sim_vals['mardur'] = sim_vals.apply(lambda x: random.randint(0, 20), axis=1)\n",
    "sim_vals['marstat'] = np.random.choice([0, 1], size=len(sim_vals), p=[0.6, 0.4])"
   ]
  },
  {
   "cell_type": "code",
   "execution_count": 9,
   "id": "60cfef0b",
   "metadata": {},
   "outputs": [],
   "source": [
    "# initialize df to store simulation proportions\n",
    "sim_equil= equilibrium.copy()"
   ]
  },
  {
   "cell_type": "code",
   "execution_count": 10,
   "id": "b4f7d373",
   "metadata": {},
   "outputs": [],
   "source": [
    "# joint utility function for married couples\n",
    "def utility(edu_f, edu_m, mar_dur):\n",
    "    variables = np.array([edu_f, edu_m, edu_f*edu_m, mar_dur])\n",
    "    utility = np.dot(alpha, variables)\n",
    "    return utility"
   ]
  },
  {
   "cell_type": "code",
   "execution_count": 175,
   "id": "9e3d9356",
   "metadata": {},
   "outputs": [],
   "source": [
    "# Terminal value\n",
    "def v_terminal(edu_f, edu_m, marstat, mardur):\n",
    "    if marstat == 1:\n",
    "        variables = np.array([edu_f, edu_m, edu_f*edu_m, mardur+1])\n",
    "        v_terminal = np.dot(alpha_terminal, variables)\n",
    "    else:\n",
    "        v_terminal = 0\n",
    "    return v_terminal"
   ]
  },
  {
   "cell_type": "code",
   "execution_count": 118,
   "id": "b4aea594",
   "metadata": {},
   "outputs": [],
   "source": [
    "# meeting probabilities as a function of age\n",
    "# returns a 2 by 5 array\n",
    "# the 1st row constains the probabilites for a woman to meet a man of 5 different education levels\n",
    "# the 2nd row constains the probabilites for a man\n",
    "def meeting_prob(age):\n",
    "    colname1 = 'single_m'\n",
    "    colname2 = 'single_f'\n",
    "    \n",
    "    # Filter the DataFrame based on age\n",
    "    filtered_data = sim_equil[(sim_equil['age'] == age)]\n",
    "    \n",
    "    # Calculate the number of single individual for both genders\n",
    "    single_num_1 = filtered_data[colname1].sum()\n",
    "    single_num_2 = filtered_data[colname2].sum()\n",
    "    \n",
    "    meeting_num = theta * np.minimum(single_num_1, single_num_2)\n",
    "    single_num_edu = np.empty((2, 5))\n",
    "    # Calculate the number of single men for different education\n",
    "    single_num_edu[0,:] = filtered_data[filtered_data['age'] == age][colname1].values\n",
    "    # Calculate the number of single women for different education\n",
    "    single_num_edu[1,:] = filtered_data[filtered_data['age'] == age][colname2].values\n",
    "    # meeting_prob[0,:] contains probs for women\n",
    "    meeting_prob = meeting_num * single_num_edu / (single_num_1 * single_num_2)\n",
    "    return meeting_prob"
   ]
  },
  {
   "cell_type": "code",
   "execution_count": 384,
   "id": "a4e4bf37",
   "metadata": {},
   "outputs": [],
   "source": [
    "# updating rule for type probabilities\n",
    "# returns a 2 elements array\n",
    "def type0_prob_update(eta):    \n",
    "    pdf0 = norm.pdf(eta, loc=0, scale=sigma_eta)\n",
    "    pdf1 = norm.pdf(eta, loc=type_val, scale=sigma_eta)\n",
    "    \n",
    "    type0_prob_update = type0_prob*pdf0/(type0_prob*pdf0 + (1-type0_prob)*pdf1)\n",
    "    return type0_prob_update"
   ]
  },
  {
   "cell_type": "code",
   "execution_count": 199,
   "id": "026188ba",
   "metadata": {},
   "outputs": [],
   "source": [
    "# construct the grid that stores future values array for simulation\n",
    "# there are 120,000 rows and 9 columns\n",
    "# columns are gender,marital status, education for the individual, education for the spouse, \n",
    "# marriage duration, observed idiosyncrasy, periods, value type, and values\n",
    "\n",
    "# Define the vectors\n",
    "vector0 = np.array([0, 1]) # gender\n",
    "vector1 = np.array([0, 1]) # marital status\n",
    "vector2 = np.array([0, 1, 2, 3, 4]) # education for the individual\n",
    "vector3 = np.array([0, 1, 2, 3, 4]) # education for the spouse\n",
    "vector4 = np.array([0, 5, 10, 20, 40]) # marriage duration\n",
    "mu_min = stats.norm.ppf(0.0001, loc=0, scale=sigma_nu)\n",
    "mu_max = stats.norm.ppf(0.9999, loc=0, scale=sigma_nu)\n",
    "vector5 = np.array([mu_min, mu_max]) # observed idiosyncrasy\n",
    "vector6 = np.arange(1, 41) # periods\n",
    "vector7 = np.array([0, 1, 2]) # value type\n",
    "\n",
    "# Create a meshgrid of combinations\n",
    "grid0, grid1, grid2, grid3, grid4, grid5, grid6, grid7 = np.meshgrid(\n",
    "    vector0, vector1, vector2, vector3, vector4, vector5, vector6, vector7, indexing='ij'\n",
    ")\n",
    "\n",
    "# Reshape the grids into 1D arrays\n",
    "col0 = grid0.flatten()\n",
    "col1 = grid1.flatten()\n",
    "col2 = grid2.flatten()\n",
    "col3 = grid3.flatten()\n",
    "col4 = grid4.flatten()\n",
    "col5 = grid5.flatten()\n",
    "col6 = grid6.flatten()\n",
    "col7 = grid7.flatten()\n",
    "col8 = np.full(col0.shape, np.nan) # value\n",
    "\n",
    "# Combine the columns to create the final 2D array\n",
    "future_vals = np.column_stack((col0, col1, col2, col3, col4, col5, col6, col7, col8))"
   ]
  },
  {
   "cell_type": "code",
   "execution_count": 220,
   "id": "7e6ef897",
   "metadata": {},
   "outputs": [],
   "source": [
    "# Find rows where age is 40\n",
    "condition = future_vals[:, 6] == 40\n",
    "result = np.apply_along_axis(lambda x: v_terminal(x[2], x[3], x[1], x[4]),\n",
    "                             axis=1, arr=future_vals[condition])\n",
    "\n",
    "# Update values with the results\n",
    "future_vals[condition, 8] = result"
   ]
  },
  {
   "cell_type": "code",
   "execution_count": 309,
   "id": "e06e6420",
   "metadata": {},
   "outputs": [],
   "source": [
    "# Terminal value, future values in the grid at age 60 \n",
    "def v_terminal(edu_f, edu_m, marstat, mardur):\n",
    "    if marstat == 1:\n",
    "        variables = np.array([edu_f, edu_m, edu_f*edu_m, mardur+1])\n",
    "        v_terminal = np.dot(alpha_terminal, variables)\n",
    "    else:\n",
    "        v_terminal = 0\n",
    "    return v_terminal\n",
    "\n",
    "# construct the future values array for simulation\n",
    "# there are 120,000 rows and 9 columns\n",
    "# columns are gender, education for the individual, education for the spouse, marriage duration\n",
    "# observed idiosyncrasy, periods, value type, and values\n",
    "\n",
    "# Define the vectors\n",
    "vector0 = np.array([0, 1]) # gender\n",
    "vector1 = np.array([0, 1]) # marital status\n",
    "vector2 = np.array([0, 1, 2, 3, 4]) # education for the individual\n",
    "vector3 = np.array([0, 1, 2, 3, 4]) # education for the spouse\n",
    "vector4 = np.array([0, 5, 10, 20, 40]) # marriage duration\n",
    "mu_min = stats.norm.ppf(0.0001, loc=0, scale=sigma_nu)\n",
    "mu_max = stats.norm.ppf(0.9999, loc=0, scale=sigma_nu)\n",
    "vector5 = np.array([mu_min, mu_max]) # observed idiosyncrasy\n",
    "vector6 = np.arange(1, 41) # periods\n",
    "vector7 = np.array([0, 1, 2]) # value type\n",
    "\n",
    "# Create a meshgrid of combinations\n",
    "grid0, grid1, grid2, grid3, grid4, grid5, grid6, grid7 = np.meshgrid(\n",
    "    vector0, vector1, vector2, vector3, vector4, vector5, vector6, vector7, indexing='ij'\n",
    ")\n",
    "\n",
    "# Reshape the grids into 1D arrays\n",
    "col0 = grid0.flatten()\n",
    "col1 = grid1.flatten()\n",
    "col2 = grid2.flatten()\n",
    "col3 = grid3.flatten()\n",
    "col4 = grid4.flatten()\n",
    "col5 = grid5.flatten()\n",
    "col6 = grid6.flatten()\n",
    "col7 = grid7.flatten()\n",
    "col8 = np.full(col0.shape, np.nan) # value\n",
    "\n",
    "# Combine the columns to create the final 2D array\n",
    "future_vals = np.column_stack((col0, col1, col2, col3, col4, col5, col6, col7, col8))\n",
    "\n",
    "# Find rows where age is 40\n",
    "condition = ((future_vals[:, 6] == 40) & (future_vals[:, 1] == 1))\n",
    "result = np.apply_along_axis(lambda x: v_terminal(x[2], x[3], x[1], x[4]),\n",
    "                             axis=1, arr=future_vals[condition])\n",
    "\n",
    "# Update values with the results\n",
    "future_vals[condition, 8] = result\n",
    "\n",
    "condition = ((future_vals[:, 6] == 40) & (future_vals[:, 1] == 0))\n",
    "future_vals[condition, 8] = 0"
   ]
  },
  {
   "cell_type": "code",
   "execution_count": 358,
   "id": "25c2d34e",
   "metadata": {},
   "outputs": [],
   "source": [
    "# calculate future values in the grid\n",
    "# move backward from age 59.\n",
    "for period in range(39, 35, -1):\n",
    "    age = period+20\n",
    "    \n",
    "    # calculate future values for individuals\n",
    "    # marriage offer probability\n",
    "    marprob = np.empty((2,5))\n",
    "    marprob = meeting_prob(age)\n",
    "    row_sums = np.sum(marprob, axis=1, keepdims=True)\n",
    "    # the 1st element of marprob_append is the probability of not meeting anyone\n",
    "    marprob_append = np.column_stack((1-row_sums, marprob)) \n",
    "    # conditional on meeting someone, the educational distribution of the potential spouse\n",
    "    marprob= marprob/row_sums\n",
    "    # 10 draws of spouse using above probabilities to calculate values just before being married\n",
    "    num_draws = 10\n",
    "    # spouse_edu[0,:] stores spouse education for a woman\n",
    "    spouse_edu = np.apply_along_axis(\n",
    "        lambda x: np.random.choice(5, size=num_draws, p=x), axis=1, arr=marprob)\n",
    "    #\n",
    "    "
   ]
  },
  {
   "cell_type": "code",
   "execution_count": 392,
   "id": "e60875de",
   "metadata": {},
   "outputs": [
    {
     "data": {
      "text/plain": [
       "array([[1, 3, 1, 2, 1, 4, 2, 1, 3, 2],\n",
       "       [1, 1, 2, 0, 1, 1, 1, 1, 1, 2]])"
      ]
     },
     "execution_count": 392,
     "metadata": {},
     "output_type": "execute_result"
    }
   ],
   "source": [
    "spouse_edu"
   ]
  },
  {
   "cell_type": "code",
   "execution_count": 349,
   "id": "cb21dd15",
   "metadata": {},
   "outputs": [],
   "source": [
    "# in future_vals, locate the 4 nearest points for an unkown points\n",
    "# interpolate along mu's and marriage durations\n",
    "# columns are gender, marital status, education for the individual, education for the spouse, \n",
    "# marriage duration, observed idiosyncrasy, periods, value type, and values\n",
    "\n",
    "def grid_interpolation(gender, marstat, edu, edu_spouse, mardur, mu, period, val_type):\n",
    "    # Find the nearest mardur, mu in the grid\n",
    "    condition = ((future_vals[:, 0] == gender) & (future_vals[:, 1] == marstat)\n",
    "                 & (future_vals[:, 2] == edu) & (future_vals[:, 3] == edu_spouse)\n",
    "                 & (future_vals[:, 6] == period) & (future_vals[:, 7] == val_type))\n",
    "    grid = future_vals[condition]\n",
    "    mardur_values = grid[:, 4]\n",
    "    mu_values = grid[:, 5]\n",
    "\n",
    "    mardur_h = np.min(mardur_values[mardur_values >= mardur])\n",
    "    mardur_l = np.max(mardur_values[mardur_values <= mardur])\n",
    "    \n",
    "    if mu>np.max(mu_values):\n",
    "        mu = np.max(mu_values)\n",
    "    if mu<np.min(mu_values):\n",
    "        mu=np.min(mu_values)\n",
    "        \n",
    "    mu_h = np.min(mu_values[mu_values >= mu])\n",
    "    mu_l = np.max(mu_values[mu_values <= mu])\n",
    "\n",
    "    # Find the corresponding values for these points\n",
    "    indices_hh = np.where((mardur_values == mardur_h) & (mu_values == mu_h))\n",
    "    indices_hl = np.where((mardur_values == mardur_h) & (mu_values == mu_l))\n",
    "    indices_lh = np.where((mardur_values == mardur_l) & (mu_values == mu_h))\n",
    "    indices_ll = np.where((mardur_values == mardur_l) & (mu_values == mu_l))\n",
    "\n",
    "    z_hh = grid[indices_hh, 8]\n",
    "    z_hl = grid[indices_hl, 8]\n",
    "    z_lh = grid[indices_lh, 8]\n",
    "    z_ll = grid[indices_ll, 8]\n",
    "    # Calculate weights\n",
    "    weight_mardur_h = (mardur - mardur_l) / (mardur_h - mardur_l)\n",
    "    weight_mardur_l = (mardur_h - mardur) / (mardur_h - mardur_l)\n",
    "    weight_mu_h = (mu - mu_l) / (mu_h - mu_l)\n",
    "    weight_mu_l = (mu_h - mu) / (mu_h - mu_l)\n",
    "\n",
    "    # Perform bilinear interpolation\n",
    "    z_m = (z_hh * weight_mardur_h * weight_mu_h +\n",
    "           z_lh * weight_mardur_l * weight_mu_h +\n",
    "           z_hl * weight_mardur_h * weight_mu_l +\n",
    "           z_ll * weight_mardur_l * weight_mu_l)\n",
    "    return z_m[0,0]"
   ]
  },
  {
   "cell_type": "code",
   "execution_count": null,
   "id": "99fa3d32",
   "metadata": {},
   "outputs": [],
   "source": []
  },
  {
   "cell_type": "code",
   "execution_count": null,
   "id": "78456605",
   "metadata": {},
   "outputs": [],
   "source": []
  },
  {
   "cell_type": "code",
   "execution_count": null,
   "id": "ce67602c",
   "metadata": {},
   "outputs": [],
   "source": [
    "# move backward from T+1, at T+1, values determined by terminal value function\n",
    "# and individuals cannot swith between being single and being married\n",
    "for age in range (60, 57, -1):\n",
    "    # marriage offer probability for gender 'f' or 'm'\n",
    "    marprob_f = meeting_prob(age, 0)\n",
    "    marprob_m = meeting_prob(age, 1)\n",
    "    marprob_f_append = np.insert(marprob_f, 0, 1-np.sum(marprob_f))\n",
    "    marprob_m_append = np.insert(marprob_m, 0, 1-np.sum(marprob_m))\n",
    "    # draw a potential spouse for the individual\n",
    "    # if an individual draws 0, then he/she doesn't get an marriage offer\n",
    "    # the spouse education = maroffer - 1\n",
    "    mask_m = (sim_vals['male'] == 1) & (sim_vals['marstat'] == 0)\n",
    "    mask_f = (sim_vals['male'] == 0) & (sim_vals['marstat'] == 0)\n",
    "    sim_vals.loc[mask_m, 'maroffer'] = np.random.choice([0, 1, 2, 3, 4, 5], \n",
    "                                                        size=len(sim_vals.loc[mask_m, 'maroffer']), \n",
    "                                                        p=marprob_m_append)\n",
    "    sim_vals.loc[mask_f, 'maroffer'] = np.random.choice([0, 1, 2, 3, 4, 5], \n",
    "                                                        size=len(sim_vals.loc[mask_m, 'maroffer']), \n",
    "                                                        p=marprob_f_append)\n",
    "    # calculate values. utlity flow is 0 if single\n",
    "    val0_now = 0 + beta*()\n",
    "    "
   ]
  },
  {
   "cell_type": "code",
   "execution_count": null,
   "id": "20e622a8",
   "metadata": {},
   "outputs": [],
   "source": [
    "# Define the function to be integrated\n",
    "def f(x):\n",
    "    return x**2  # Replace with your function\n",
    "\n",
    "# Define the integration limits\n",
    "a = 0.0  # Lower limit\n",
    "b = 2.0  # Upper limit\n",
    "\n",
    "# Generate sample points for integration (adjust as needed)\n",
    "x = np.linspace(a, b, num=100)\n",
    "result = simps(f(x), x)"
   ]
  },
  {
   "cell_type": "code",
   "execution_count": 350,
   "id": "a0a105c0",
   "metadata": {},
   "outputs": [
    {
     "data": {
      "text/plain": [
       "0.6399999999999999"
      ]
     },
     "execution_count": 350,
     "metadata": {},
     "output_type": "execute_result"
    }
   ],
   "source": [
    "grid_interpolation(1, 1, 2, 2, 15, 0.1, 40, 1)"
   ]
  },
  {
   "cell_type": "code",
   "execution_count": 136,
   "id": "4b4fd615",
   "metadata": {},
   "outputs": [
    {
     "name": "stdout",
     "output_type": "stream",
     "text": [
      "[ 0.  0.  0.  0.  0.  0.  0. nan]\n"
     ]
    }
   ],
   "source": [
    "import numpy as np\n",
    "\n",
    "# Define the vectors\n",
    "vector1 = np.array([0, 1])\n",
    "vector2 = np.array([0, 1, 2, 3, 4])\n",
    "vector3 = np.array([0, 1, 2])\n",
    "vector4 = np.array([0, 1])\n",
    "vector5 = np.array([0, 1, 2, 3])\n",
    "vector6 = np.array([0, 1])\n",
    "vector7 = np.array([0, 1, 2, 3, 4, 5])\n",
    "\n",
    "# Create a meshgrid of combinations\n",
    "grid1, grid2, grid3, grid4, grid5, grid6, grid7 = np.meshgrid(\n",
    "    vector1, vector2, vector3, vector4, vector5, vector6, vector7, indexing='ij'\n",
    ")\n",
    "\n",
    "# Reshape the grids into 1D arrays\n",
    "col1 = grid1.flatten()\n",
    "col2 = grid2.flatten()\n",
    "col3 = grid3.flatten()\n",
    "col4 = grid4.flatten()\n",
    "col5 = grid5.flatten()\n",
    "col6 = grid6.flatten()\n",
    "col7 = grid7.flatten()\n",
    "col8 = np.full(col1.shape, np.nan)\n",
    "\n",
    "# Combine the columns to create the final 2D array\n",
    "result = np.column_stack((col1, col2, col3, col4, col5, col6, col7, col8))\n",
    "\n",
    "# Print the result\n",
    "print(result[0,:])\n"
   ]
  },
  {
   "cell_type": "code",
   "execution_count": null,
   "id": "8d56ede1",
   "metadata": {},
   "outputs": [],
   "source": []
  }
 ],
 "metadata": {
  "kernelspec": {
   "display_name": "Python 3 (ipykernel)",
   "language": "python",
   "name": "python3"
  },
  "language_info": {
   "codemirror_mode": {
    "name": "ipython",
    "version": 3
   },
   "file_extension": ".py",
   "mimetype": "text/x-python",
   "name": "python",
   "nbconvert_exporter": "python",
   "pygments_lexer": "ipython3",
   "version": "3.10.9"
  }
 },
 "nbformat": 4,
 "nbformat_minor": 5
}
